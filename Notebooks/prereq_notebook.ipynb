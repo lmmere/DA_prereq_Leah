{
 "cells": [
  {
   "cell_type": "code",
   "execution_count": 1,
   "id": "22dbdc8c",
   "metadata": {},
   "outputs": [
    {
     "name": "stdout",
     "output_type": "stream",
     "text": [
      "I am interested in Kayaking.\n",
      "I am interested in Music.\n",
      "I am interested in Data Analysis.\n"
     ]
    }
   ],
   "source": [
    "interests = [\"Kayaking\", \"Music\", \"Data Analysis\"]\n",
    "for interest in interests: \n",
    "    print(f\"I am interested in {interest}.\")"
   ]
  },
  {
   "cell_type": "markdown",
   "id": "b4d40d50",
   "metadata": {},
   "source": [
    "# Hello, I'm Leah \n",
    "I'm excited to learn Python and data analysis! I love kayaking, music festivals, and solving real-world problems with code. "
   ]
  }
 ],
 "metadata": {
  "kernelspec": {
   "display_name": "Python 3",
   "language": "python",
   "name": "python3"
  },
  "language_info": {
   "codemirror_mode": {
    "name": "ipython",
    "version": 3
   },
   "file_extension": ".py",
   "mimetype": "text/x-python",
   "name": "python",
   "nbconvert_exporter": "python",
   "pygments_lexer": "ipython3",
   "version": "3.13.4"
  }
 },
 "nbformat": 4,
 "nbformat_minor": 5
}
